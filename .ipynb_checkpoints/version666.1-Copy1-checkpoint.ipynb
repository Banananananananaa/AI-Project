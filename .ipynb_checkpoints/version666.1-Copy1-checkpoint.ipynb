{
 "cells": [
  {
   "cell_type": "code",
   "execution_count": 2,
   "metadata": {
    "collapsed": true
   },
   "outputs": [],
   "source": [
    "import spacy\n",
    "import pandas as pd\n",
    "import re\n",
    "import nltk\n",
    "from nltk import wordnet as wn\n",
    "import enchant\n",
    "from collections import Counter\n",
    "from sklearn.feature_extraction.text import TfidfVectorizer\n",
    "\n",
    "\n",
    "df = pd.read_csv(\"berichten-09-06-2017_10-49.csv\", sep=';')\n",
    "nlp = spacy.load('nl')\n",
    "d = enchant.Dict(\"en_US\")\n",
    "# Functie die van een lijst gebruikers de unieke namen teruggeeft. in progress\n",
    "def get_Users(df):\n",
    "    users = []\n",
    "    for g in df.Gebruiker:\n",
    "        u = g#.lower()\n",
    "        if u not in users:\n",
    "            users.append(u)    \n",
    "    return users\n",
    "\n",
    "# Functie die een b[ericht normarliseerd door de @, # en links verwijderd, waarna het \n",
    "# de pos tags vindt en die returned\n",
    "def norm_Bericht(bericht):\n",
    "    b = re.sub('@'+'\\w+','',bericht)\n",
    "    b = re.sub('#'+'\\w+','',b)\n",
    "    b = re.sub('http'+'\\S+', '', b)\n",
    "    b = re.findall('\\w+', b)\n",
    "    b = ' '.join(b)\n",
    "    b = unicode(b, \"utf-8\")\n",
    "    return nlp(b)\n",
    "\n",
    "def pos_tags(bericht):\n",
    "    doc = norm_Bericht(bericht)\n",
    "    tags = []\n",
    "    for word in doc:\n",
    "        if word.tag_ == u'NOUN' or word.tag_ == u'VERB' or word.tag_ == u'ADJ' or word.tag_ == u'ADV':\n",
    "            tags.append((word, word.tag_))\n",
    "    return tags\n",
    "#Functie die door middel van regular expressions kandidaat keywords samenstelt.\n",
    "def regex_Tags(bericht):\n",
    "    doc = norm_Bericht(bericht)\n",
    "    tags = []\n",
    "    l = len(doc)\n",
    "    for i in range(0, l-1):\n",
    "        if (i + 1):\n",
    "            if (doc[i].tag_ == u'ADJ' or doc[i].tag_ == u'NOUN') and doc[i+1].tag_ == u'NOUN':\n",
    "                tags.append((doc[i], doc[i+1]))\n",
    "            elif doc[i].tag_ == u'VERB' and (doc[i+1].tag_ == u'ADJ' or doc[i+1].tag_ == u'NOUN'):\n",
    "                tags.append((doc[i], doc[i+1]))\n",
    "            elif doc[i].tag_ == u'VERB' and (doc[i+1].tag_ == u'ADJ' or doc[i+1].tag_ == u'NOUN') and doc[i+2].tag_ == u'NOUN':\n",
    "                tags.append((doc[i], doc[i+1], docc[i+2]))\n",
    "    return tags\n",
    "\n",
    "\n",
    "# Functie die van een lijst gebruikers de berichten verzameld.\n",
    "def get_Messages(df):\n",
    "    messages = {}\n",
    "    users = get_Users(df)\n",
    "    for u in users:\n",
    "        messages.update({u : df.Bericht.loc[df['Gebruiker'] == u]})\n",
    "    return messages\n",
    "\n",
    "def get_Tags(df):\n",
    "    user = []\n",
    "    tag = []\n",
    "    regex = []\n",
    "    for i in range(0, len(df.Bericht)):\n",
    "        user.append(df.Gebruiker[i].lower())\n",
    "        tag.append(pos_tags(df.Bericht[i]))\n",
    "        regex.append(regex_Tags(df.Bericht[i]))\n",
    "    tags = pd.DataFrame({'Gebruiker':user, 'Tags':tag, 'Regex':regex})\n",
    "    return tags\n",
    "\n",
    "#get_Tags(df)"
   ]
  },
  {
   "cell_type": "code",
   "execution_count": null,
   "metadata": {
    "collapsed": false
   },
   "outputs": [],
   "source": [
    "def word_Count(bericht): #basic\n",
    "    doc = norm_Bericht(bericht)\n",
    "    words = []\n",
    "    for i in range(0, len(doc)):\n",
    "        word = doc[i]\n",
    "        if  word.tag_ == u'NOUN' or word.tag_ == u'VERB' or word.tag_ == u'ADJ' or word.tag_ == u'ADV':\n",
    "            words.append(str(doc[i]))\n",
    "    words = ' '.join(word for word in words)\n",
    "    #counts = Counter(words)\n",
    "    return words\n",
    "\n",
    "\n",
    "def get_Keywords(df):\n",
    "    vectorizer = TfidfVectorizer(min_df=1)\n",
    "    x = []\n",
    "    weight = []\n",
    "    keyword = []\n",
    "    len_s = len(df.Bericht)\n",
    "    for i in range(0, len_s):\n",
    "        x.append(word_Count(df.Bericht[i]))\n",
    "    X = vectorizer.fit_transform(x)\n",
    "    features = vectorizer.get_feature_names()\n",
    "    len_f = len(features)\n",
    "    for sentence in range(0, len_s):\n",
    "        k = \"\"\n",
    "        w = 0\n",
    "        for word in range(0, len_f):\n",
    "            if X[sentence, word] == X[sentence].max():\n",
    "                w = X[sentence, word]\n",
    "                k = features[word]\n",
    "        weight.append(w)\n",
    "        keyword.append(k)\n",
    "    return pd.DataFrame({'Keyword':keyword, 'Weight':weight})\n",
    "\n",
    "    \n"
   ]
  },
  {
   "cell_type": "code",
   "execution_count": 22,
   "metadata": {
    "collapsed": false
   },
   "outputs": [
    {
     "data": {
      "text/plain": [
       "1.0"
      ]
     },
     "execution_count": 22,
     "metadata": {},
     "output_type": "execute_result"
    }
   ],
   "source": [
    "vectorizer = TfidfVectorizer(min_df=1)\n",
    "\n",
    "x = []\n",
    "\n",
    "for i in range(0, len(df.Bericht)):\n",
    "    x.append(word_Count(df.Bericht[i]))\n",
    "\n",
    "X = vectorizer.fit_transform(x)\n",
    "\n",
    "features = vectorizer.get_feature_names()\n",
    "\n",
    "#dataframe = pd.DataFrame(data=X[(0:,0:)],index=data[1:,0],columns=data[0,1:])"
   ]
  },
  {
   "cell_type": "code",
   "execution_count": 19,
   "metadata": {
    "collapsed": true
   },
   "outputs": [],
   "source": [
    "#keys = get_Keywords(df)\n",
    "#keys"
   ]
  },
  {
   "cell_type": "code",
   "execution_count": null,
   "metadata": {
    "collapsed": false
   },
   "outputs": [],
   "source": [
    "import time\n",
    "t0 = time.clock()\n",
    "keys = get_Keywords(df)\n",
    "print keys[:10]\n",
    "print time.clock() - t0, \"seconds process time\""
   ]
  },
  {
   "cell_type": "code",
   "execution_count": null,
   "metadata": {
    "collapsed": true
   },
   "outputs": [],
   "source": []
  }
 ],
 "metadata": {
  "anaconda-cloud": {},
  "kernelspec": {
   "display_name": "Python 2",
   "language": "python",
   "name": "python2"
  },
  "language_info": {
   "codemirror_mode": {
    "name": "ipython",
    "version": 2
   },
   "file_extension": ".py",
   "mimetype": "text/x-python",
   "name": "python",
   "nbconvert_exporter": "python",
   "pygments_lexer": "ipython2",
   "version": "2.7.13"
  }
 },
 "nbformat": 4,
 "nbformat_minor": 1
}
